{
 "cells": [
  {
   "cell_type": "code",
   "execution_count": 1,
   "id": "d7c43543",
   "metadata": {},
   "outputs": [],
   "source": [
    "import numpy as np\n",
    "import matplotlib.pyplot as plt\n"
   ]
  },
  {
   "cell_type": "code",
   "execution_count": 2,
   "id": "f25fc148",
   "metadata": {},
   "outputs": [
    {
     "name": "stdout",
     "output_type": "stream",
     "text": [
      "training data : [[2104    5    1   45]\n",
      " [1416    3    2   40]\n",
      " [ 852    2    1   35]\n",
      " [1543    4    1   32]]\n",
      "actual price of data : [460000 232000 178000 340000]\n"
     ]
    }
   ],
   "source": [
    "x_train =np.array([[2104, 5, 1, 45], [1416, 3, 2, 40], [852, 2, 1, 35],[1543,4,1,32]])\n",
    "y_train = np.array([460000, 232000, 178000,340000])\n",
    "print(f'training data : {x_train}')\n",
    "print(f'actual price of data : {y_train}')"
   ]
  },
  {
   "cell_type": "code",
   "execution_count": 35,
   "id": "2061bb31",
   "metadata": {},
   "outputs": [],
   "source": [
    "#  prediction of a model\n",
    "# initialized parameter\n",
    "w  = [1200,3200,2030,1010]\n",
    "b = 150\n",
    "def prediction(x_data,w,b):\n",
    "    n = x_data.shape[0]\n",
    "    pred = np.zeros(n)\n",
    "    \n",
    "    for i in range(n):\n",
    "        dat = np.sum(np.dot(x_data[i],w)) +b\n",
    "        pred[i]=dat\n",
    "    return pred\n",
    "#  cost of model \n",
    "def cost_model(x_data,y_data):\n",
    "    cost = 0\n",
    "    m = x_data.shape[0]\n",
    "    n = 2*m\n",
    "    for i in range(x_data.shape[0]):\n",
    "        cos =( x_data[i]-y_data[i])**2\n",
    "        cost = cost + cos\n",
    "    cost = cost/n\n",
    "    return cost\n",
    "def gradient(x_data,y_data,data):\n",
    "    m = len(x_data)\n",
    "    bi =0\n",
    "    wi =np.zeros(m)\n",
    "    for i in range(m):\n",
    "        diff = x_data[i]-y_data[i]\n",
    "        for j in range(m):\n",
    "            wi[j] = wi[j]+ diff * data[i][j]\n",
    "            bi = bi + diff\n",
    "    wi = wi/m\n",
    "    bi = bi/m\n",
    "    return wi,bi\n",
    "def gradient_descent(x_data,y_data,lr,itr):\n",
    "    m = x_data.shape[0]\n",
    "    hist = []\n",
    "    w ,b = 10000,18900\n",
    "    cost = []\n",
    "    for i in range(itr):\n",
    "        predict = prediction(x_data,w,b)\n",
    "        wit,bis = gradient(predict,y_data,x_data)\n",
    "        w = w - (lr*wit)\n",
    "        b = b - (lr * bis)\n",
    "        if i % 100000 ==0:\n",
    "            cost.append(cost_model(predict,y_data))\n",
    "            hist.append([w,b])\n",
    "            print(f\"weight : {w}  bais : {b } \" )\n",
    "    return w,b,hist,cost,predict\n",
    "            \n",
    "            \n",
    "\n",
    "        \n",
    "        "
   ]
  },
  {
   "cell_type": "code",
   "execution_count": null,
   "id": "0b099443",
   "metadata": {},
   "outputs": [
    {
     "name": "stdout",
     "output_type": "stream",
     "text": [
      "weight : [9975.96741862 9999.94296685 9999.98146937 9999.4182418 ]  bais : 18899.9402744 \n",
      "weight : [ -69.75235973 9977.90903562 9986.35290914 9661.57804986]  bais : 18863.867296159002 \n",
      "weight : [ -67.46668425 9979.71814263 9980.48266289 9567.29391595]  bais : 18852.805073268573 \n",
      "weight : [ -65.19837919 9981.51719853 9974.6475804  9473.7262089 ]  bais : 18841.828492591278 \n",
      "weight : [ -62.94731264 9983.30627958 9968.84739482 9380.86948838]  bais : 18830.936903756065 \n",
      "weight : [ -60.7133537  9985.08546145 9963.08184132 9288.71835539]  bais : 18820.129661331284 \n",
      "weight : [ -58.49637246 9986.85481925 9957.35065709 9197.26745192]  bais : 18809.40612478575 \n",
      "weight : [ -56.29624    9988.61442752 9951.6535813  9106.51146065]  bais : 18798.76565845267 \n"
     ]
    }
   ],
   "source": [
    "weight,bais,w_b,cost,pred =gradient_descent(x_train,y_train,0.000000001,1000000) "
   ]
  },
  {
   "cell_type": "code",
   "execution_count": null,
   "id": "a24db949",
   "metadata": {},
   "outputs": [],
   "source": [
    "pred"
   ]
  },
  {
   "cell_type": "code",
   "execution_count": 30,
   "id": "c8d26192",
   "metadata": {},
   "outputs": [
    {
     "data": {
      "text/plain": [
       "[121107008355000.0,\n",
       " 6507332213.534591,\n",
       " 6498182863.793821,\n",
       " 6489047449.155709,\n",
       " 6479925948.391968,\n",
       " 6470818340.306666,\n",
       " 6461724603.736069,\n",
       " 6452644717.548865,\n",
       " 6443578660.645809,\n",
       " 6434526411.9597435]"
      ]
     },
     "execution_count": 30,
     "metadata": {},
     "output_type": "execute_result"
    }
   ],
   "source": [
    "cost"
   ]
  },
  {
   "cell_type": "code",
   "execution_count": null,
   "id": "bcaa74da",
   "metadata": {},
   "outputs": [],
   "source": [
    "weight"
   ]
  },
  {
   "cell_type": "code",
   "execution_count": null,
   "id": "ae51c8e8",
   "metadata": {},
   "outputs": [],
   "source": []
  },
  {
   "cell_type": "code",
   "execution_count": null,
   "id": "82ac3ce9",
   "metadata": {},
   "outputs": [],
   "source": []
  },
  {
   "cell_type": "code",
   "execution_count": null,
   "id": "2589486f",
   "metadata": {},
   "outputs": [],
   "source": []
  }
 ],
 "metadata": {
  "kernelspec": {
   "display_name": "Python 3 (ipykernel)",
   "language": "python",
   "name": "python3"
  },
  "language_info": {
   "codemirror_mode": {
    "name": "ipython",
    "version": 3
   },
   "file_extension": ".py",
   "mimetype": "text/x-python",
   "name": "python",
   "nbconvert_exporter": "python",
   "pygments_lexer": "ipython3",
   "version": "3.11.5"
  }
 },
 "nbformat": 4,
 "nbformat_minor": 5
}
